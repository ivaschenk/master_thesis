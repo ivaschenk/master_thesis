{
 "cells": [
  {
   "cell_type": "code",
   "execution_count": 26,
   "metadata": {},
   "outputs": [],
   "source": [
    "import json\n",
    "import logging\n",
    "import math\n",
    "import os\n",
    "import pickle\n",
    "import re\n",
    "import torch\n",
    "import warnings\n",
    "\n",
    "import numpy as np\n",
    "import pandas as pd\n",
    "import skimage.io as io\n",
    "import torch.nn.functional as F\n",
    "\n",
    "from collections import defaultdict, Counter\n",
    "from itertools import combinations, permutations\n",
    "from numba import njit, jit, prange\n",
    "from os.path import join as pjoin\n",
    "from skimage.transform import resize\n",
    "from torch.optim import Adam, AdamW\n",
    "from torch.utils.data.distributed import DistributedSampler\n",
    "from torch.utils.data import Dataset, DataLoader, SequentialSampler\n",
    "from typing import Tuple, Iterator, List, Dict"
   ]
  },
  {
   "cell_type": "code",
   "execution_count": 2,
   "metadata": {},
   "outputs": [],
   "source": [
    "os.environ['PYTHONIOENCODING']='UTF-8'"
   ]
  },
  {
   "cell_type": "code",
   "execution_count": 23,
   "metadata": {},
   "outputs": [
    {
     "name": "stdout",
     "output_type": "stream",
     "text": [
      "/Users/ivaschenk\n"
     ]
    }
   ],
   "source": [
    "cd"
   ]
  },
  {
   "cell_type": "code",
   "execution_count": 24,
   "metadata": {},
   "outputs": [
    {
     "data": {
      "text/plain": [
       "array([[1244, 1049,  493],\n",
       "       [ 887, 1787, 1249],\n",
       "       [1255,  945,  733],\n",
       "       ...,\n",
       "       [1168,  578,  387],\n",
       "       [ 123,  466,   35],\n",
       "       [1765,  130,  372]])"
      ]
     },
     "execution_count": 24,
     "metadata": {},
     "output_type": "execute_result"
    }
   ],
   "source": [
    "# np.load(\"Desktop/Thesis/master_thesis/SPoSE/data/train_90.npy\")"
   ]
  },
  {
   "cell_type": "code",
   "execution_count": 29,
   "metadata": {},
   "outputs": [
    {
     "ename": "AssertionError",
     "evalue": "Torch not compiled with CUDA enabled",
     "output_type": "error",
     "traceback": [
      "\u001b[0;31m---------------------------------------------------------------------------\u001b[0m",
      "\u001b[0;31mAssertionError\u001b[0m                            Traceback (most recent call last)",
      "\u001b[1;32m/Users/ivaschenk/Desktop/Thesis/master_thesis/SPoSE/practice.ipynb Cell 5\u001b[0m in \u001b[0;36m<cell line: 21>\u001b[0;34m()\u001b[0m\n\u001b[1;32m     <a href='vscode-notebook-cell:/Users/ivaschenk/Desktop/Thesis/master_thesis/SPoSE/practice.ipynb#W1sZmlsZQ%3D%3D?line=17'>18</a>\u001b[0m     \u001b[39mreturn\u001b[39;00m train_triplets, test_triplets\n\u001b[1;32m     <a href='vscode-notebook-cell:/Users/ivaschenk/Desktop/Thesis/master_thesis/SPoSE/practice.ipynb#W1sZmlsZQ%3D%3D?line=19'>20</a>\u001b[0m \u001b[39m#load triplets into memory\u001b[39;00m\n\u001b[0;32m---> <a href='vscode-notebook-cell:/Users/ivaschenk/Desktop/Thesis/master_thesis/SPoSE/practice.ipynb#W1sZmlsZQ%3D%3D?line=20'>21</a>\u001b[0m train_triplets, test_triplets \u001b[39m=\u001b[39m load_data(device\u001b[39m=\u001b[39;49m\u001b[39m'\u001b[39;49m\u001b[39mcuda\u001b[39;49m\u001b[39m'\u001b[39;49m, triplets_dir\u001b[39m=\u001b[39;49m\u001b[39m\"\u001b[39;49m\u001b[39mDesktop/Thesis/master_thesis/SPoSE/data\u001b[39;49m\u001b[39m\"\u001b[39;49m)\n",
      "\u001b[1;32m/Users/ivaschenk/Desktop/Thesis/master_thesis/SPoSE/practice.ipynb Cell 5\u001b[0m in \u001b[0;36mload_data\u001b[0;34m(device, triplets_dir, inference)\u001b[0m\n\u001b[1;32m      <a href='vscode-notebook-cell:/Users/ivaschenk/Desktop/Thesis/master_thesis/SPoSE/practice.ipynb#W1sZmlsZQ%3D%3D?line=6'>7</a>\u001b[0m \u001b[39mtry\u001b[39;00m:\n\u001b[1;32m      <a href='vscode-notebook-cell:/Users/ivaschenk/Desktop/Thesis/master_thesis/SPoSE/practice.ipynb#W1sZmlsZQ%3D%3D?line=7'>8</a>\u001b[0m     \u001b[39mwith\u001b[39;00m \u001b[39mopen\u001b[39m(pjoin(triplets_dir, \u001b[39m'\u001b[39m\u001b[39mtrain_90.npy\u001b[39m\u001b[39m'\u001b[39m), \u001b[39m'\u001b[39m\u001b[39mrb\u001b[39m\u001b[39m'\u001b[39m) \u001b[39mas\u001b[39;00m train_file:\n\u001b[0;32m----> <a href='vscode-notebook-cell:/Users/ivaschenk/Desktop/Thesis/master_thesis/SPoSE/practice.ipynb#W1sZmlsZQ%3D%3D?line=8'>9</a>\u001b[0m         train_triplets \u001b[39m=\u001b[39m torch\u001b[39m.\u001b[39;49mfrom_numpy(np\u001b[39m.\u001b[39;49mload(train_file))\u001b[39m.\u001b[39;49mto(device)\u001b[39m.\u001b[39mtype(torch\u001b[39m.\u001b[39mLongTensor)\n\u001b[1;32m     <a href='vscode-notebook-cell:/Users/ivaschenk/Desktop/Thesis/master_thesis/SPoSE/practice.ipynb#W1sZmlsZQ%3D%3D?line=10'>11</a>\u001b[0m     \u001b[39mwith\u001b[39;00m \u001b[39mopen\u001b[39m(pjoin(triplets_dir, \u001b[39m'\u001b[39m\u001b[39mtest_10.npy\u001b[39m\u001b[39m'\u001b[39m), \u001b[39m'\u001b[39m\u001b[39mrb\u001b[39m\u001b[39m'\u001b[39m) \u001b[39mas\u001b[39;00m test_file:\n\u001b[1;32m     <a href='vscode-notebook-cell:/Users/ivaschenk/Desktop/Thesis/master_thesis/SPoSE/practice.ipynb#W1sZmlsZQ%3D%3D?line=11'>12</a>\u001b[0m         test_triplets \u001b[39m=\u001b[39m torch\u001b[39m.\u001b[39mfrom_numpy(np\u001b[39m.\u001b[39mload(test_file))\u001b[39m.\u001b[39mto(device)\u001b[39m.\u001b[39mtype(torch\u001b[39m.\u001b[39mLongTensor)\n",
      "File \u001b[0;32m~/opt/anaconda3/lib/python3.9/site-packages/torch/cuda/__init__.py:239\u001b[0m, in \u001b[0;36m_lazy_init\u001b[0;34m()\u001b[0m\n\u001b[1;32m    235\u001b[0m     \u001b[39mraise\u001b[39;00m \u001b[39mRuntimeError\u001b[39;00m(\n\u001b[1;32m    236\u001b[0m         \u001b[39m\"\u001b[39m\u001b[39mCannot re-initialize CUDA in forked subprocess. To use CUDA with \u001b[39m\u001b[39m\"\u001b[39m\n\u001b[1;32m    237\u001b[0m         \u001b[39m\"\u001b[39m\u001b[39mmultiprocessing, you must use the \u001b[39m\u001b[39m'\u001b[39m\u001b[39mspawn\u001b[39m\u001b[39m'\u001b[39m\u001b[39m start method\u001b[39m\u001b[39m\"\u001b[39m)\n\u001b[1;32m    238\u001b[0m \u001b[39mif\u001b[39;00m \u001b[39mnot\u001b[39;00m \u001b[39mhasattr\u001b[39m(torch\u001b[39m.\u001b[39m_C, \u001b[39m'\u001b[39m\u001b[39m_cuda_getDeviceCount\u001b[39m\u001b[39m'\u001b[39m):\n\u001b[0;32m--> 239\u001b[0m     \u001b[39mraise\u001b[39;00m \u001b[39mAssertionError\u001b[39;00m(\u001b[39m\"\u001b[39m\u001b[39mTorch not compiled with CUDA enabled\u001b[39m\u001b[39m\"\u001b[39m)\n\u001b[1;32m    240\u001b[0m \u001b[39mif\u001b[39;00m _cudart \u001b[39mis\u001b[39;00m \u001b[39mNone\u001b[39;00m:\n\u001b[1;32m    241\u001b[0m     \u001b[39mraise\u001b[39;00m \u001b[39mAssertionError\u001b[39;00m(\n\u001b[1;32m    242\u001b[0m         \u001b[39m\"\u001b[39m\u001b[39mlibcudart functions unavailable. It looks like you have a broken build?\u001b[39m\u001b[39m\"\u001b[39m)\n",
      "\u001b[0;31mAssertionError\u001b[0m: Torch not compiled with CUDA enabled"
     ]
    }
   ],
   "source": [
    "def load_data(device:torch.device, triplets_dir:str, inference:bool=False) -> Tuple[torch.Tensor]:\n",
    "    \"\"\"load train and test triplet datasets into memory\"\"\"\n",
    "    if inference:\n",
    "        with open(pjoin(triplets_dir, 'test_triplets.npy'), 'rb') as test_triplets:\n",
    "            test_triplets = torch.from_numpy(np.load(test_triplets)).to(device).type(torch.LongTensor)\n",
    "            return test_triplets\n",
    "    try:\n",
    "        with open(pjoin(triplets_dir, 'train_90.npy'), 'rb') as train_file:\n",
    "            train_triplets = torch.from_numpy(np.load(train_file)).to(device).type(torch.LongTensor)\n",
    "\n",
    "        with open(pjoin(triplets_dir, 'test_10.npy'), 'rb') as test_file:\n",
    "            test_triplets = torch.from_numpy(np.load(test_file)).to(device).type(torch.LongTensor)\n",
    "    except FileNotFoundError:\n",
    "        print('\\n...Could not find any .npy files for current modality.')\n",
    "        print('...Now searching for .txt files.\\n')\n",
    "        train_triplets = torch.from_numpy(np.loadtxt(pjoin(triplets_dir, 'train_90.txt'))).to(device).type(torch.LongTensor)\n",
    "        test_triplets = torch.from_numpy(np.loadtxt(pjoin(triplets_dir, 'test_10.txt'))).to(device).type(torch.LongTensor)\n",
    "    return train_triplets, test_triplets\n",
    "\n",
    "#load triplets into memory\n",
    "train_triplets, test_triplets = load_data(device='cuda', triplets_dir=\"Desktop/Thesis/master_thesis/SPoSE/data\")"
   ]
  },
  {
   "cell_type": "code",
   "execution_count": 33,
   "metadata": {},
   "outputs": [
    {
     "data": {
      "text/plain": [
       "False"
      ]
     },
     "execution_count": 33,
     "metadata": {},
     "output_type": "execute_result"
    }
   ],
   "source": [
    "torch.cuda.is_available()"
   ]
  },
  {
   "cell_type": "code",
   "execution_count": null,
   "metadata": {},
   "outputs": [],
   "source": []
  }
 ],
 "metadata": {
  "kernelspec": {
   "display_name": "base",
   "language": "python",
   "name": "python3"
  },
  "language_info": {
   "codemirror_mode": {
    "name": "ipython",
    "version": 3
   },
   "file_extension": ".py",
   "mimetype": "text/x-python",
   "name": "python",
   "nbconvert_exporter": "python",
   "pygments_lexer": "ipython3",
   "version": "3.9.12"
  },
  "orig_nbformat": 4
 },
 "nbformat": 4,
 "nbformat_minor": 2
}
