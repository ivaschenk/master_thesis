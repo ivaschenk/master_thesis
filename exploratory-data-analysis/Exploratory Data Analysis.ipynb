{
 "cells": [
  {
   "cell_type": "markdown",
   "id": "5e25ea09-74d6-47e6-bad6-e922f52c3532",
   "metadata": {},
   "source": [
    "# Personal Information\n",
    "Name: Iva Schenk\n",
    "\n",
    "StudentID: 12402605\n",
    "\n",
    "Email: [**iva.schenk@student.uva.nl**](iva.schenk@student.uva.nl)\n",
    "\n",
    "Submitted on: 19.03.2023\n",
    "\n",
    "Github Link: https://github.com/ivaschenk/master_thesis"
   ]
  },
  {
   "cell_type": "markdown",
   "id": "e3cf6243-adfe-4eb8-bba3-bb2835079abd",
   "metadata": {},
   "source": [
    "# Data Context\n",
    "The open source THINGS-database is used (https://things-initiative.org/). This  initative is based on a large image dataset of 1854 unique object concepts, which is used in behavioural and neuroscience research that focuses on the human understandig of objects. The data that results from these researches are added to the THINGS initiative platform to collaboratively create an extensive database on object understandig. \n",
    "\n",
    "For this thesis, the odd-one-out similarity judgement of the THINGS-databse is used. This is created by giving participants (N=12,340) the triplet odd-one-out task, where they had to choose which two objects were most similair in the context of a third object based on an image of the objects. This resulted in 4.7 million similarity judgements over 1854 object concepts."
   ]
  },
  {
   "cell_type": "markdown",
   "id": "a833d964-56e1-49c7-8172-7435357624aa",
   "metadata": {},
   "source": [
    "# Data Description"
   ]
  },
  {
   "cell_type": "code",
   "execution_count": 1,
   "id": "534317db-d881-4e33-a358-754e2881e8bd",
   "metadata": {},
   "outputs": [],
   "source": [
    "# Imports\n",
    "import os\n",
    "import numpy as np\n",
    "import pandas as pd\n",
    "import matplotlib.pyplot as plt\n",
    "from itertools import combinations\n",
    "from collections import Counter\n",
    "# import networkx as nx"
   ]
  },
  {
   "cell_type": "markdown",
   "id": "b582b299-f599-4140-a454-bcbfdeeb273f",
   "metadata": {},
   "source": [
    "### Data Loading\n",
    "1. Triplet judgement trainset: e.g. (3,76,40) --> image 40 is judged as the odd-one-out"
   ]
  },
  {
   "cell_type": "code",
   "execution_count": 3,
   "id": "e153a334",
   "metadata": {},
   "outputs": [
    {
     "data": {
      "text/plain": [
       "(4120663, 3)"
      ]
     },
     "execution_count": 3,
     "metadata": {},
     "output_type": "execute_result"
    }
   ],
   "source": [
    "# load data in numpy array of shape N,3 (N= number of triplets)\n",
    "train = np.load(\"../SPoSE/data/train_90.npy\")\n",
    "train.shape"
   ]
  },
  {
   "cell_type": "code",
   "execution_count": 4,
   "id": "ae90fa09",
   "metadata": {},
   "outputs": [
    {
     "data": {
      "text/plain": [
       "(457430, 3)"
      ]
     },
     "execution_count": 4,
     "metadata": {},
     "output_type": "execute_result"
    }
   ],
   "source": [
    "test = np.load(\"../SPoSE/data/test_10.npy\")\n",
    "test.shape"
   ]
  },
  {
   "cell_type": "code",
   "execution_count": 5,
   "id": "ae998179",
   "metadata": {},
   "outputs": [
    {
     "data": {
      "text/plain": [
       "4578093"
      ]
     },
     "execution_count": 5,
     "metadata": {},
     "output_type": "execute_result"
    }
   ],
   "source": [
    "len(train) + len(test)"
   ]
  },
  {
   "cell_type": "code",
   "execution_count": 6,
   "id": "569f70b5",
   "metadata": {},
   "outputs": [],
   "source": [
    "with open('../SPoSE/data/testset1.txt') as f:\n",
    "    lines = f.readlines()\n",
    "    test1 = np.asarray([list(map(int, l.split())) for l in lines])\n",
    "    \n",
    "with open('../SPoSE/data/testset2.txt') as f:\n",
    "    lines = f.readlines()\n",
    "    test2 = np.asarray([list(map(int, l.split())) for l in lines])\n",
    "    \n",
    "with open('../SPoSE/data/testset3.txt') as f:\n",
    "    lines = f.readlines()\n",
    "    test3 = np.asarray([list(map(int, l.split())) for l in lines])"
   ]
  },
  {
   "cell_type": "code",
   "execution_count": 7,
   "id": "f57ae1d5",
   "metadata": {},
   "outputs": [
    {
     "data": {
      "text/plain": [
       "(15640, 36407, 36401)"
      ]
     },
     "execution_count": 7,
     "metadata": {},
     "output_type": "execute_result"
    }
   ],
   "source": [
    "len(test1), len(test2), len(test3)"
   ]
  },
  {
   "cell_type": "code",
   "execution_count": 8,
   "id": "53c11874",
   "metadata": {},
   "outputs": [
    {
     "data": {
      "text/plain": [
       "4666541"
      ]
     },
     "execution_count": 8,
     "metadata": {},
     "output_type": "execute_result"
    }
   ],
   "source": [
    "len(train) + len(test) + len(test1) + len(test2) + len(test3)"
   ]
  },
  {
   "cell_type": "code",
   "execution_count": 9,
   "id": "5815fa6f",
   "metadata": {},
   "outputs": [],
   "source": [
    "# REMOVE\n",
    "train = np.unique(np.concatenate([train, test, test1, test2, test3]), axis=0)"
   ]
  },
  {
   "cell_type": "markdown",
   "id": "45518cb2",
   "metadata": {},
   "source": [
    "2. Wordnet dataset:\n",
    "- objectID = ID of object as used in the trainset\n",
    "- Word = english word for object\n",
    "- Wordnet Synset = synonyms of the word\n",
    "- uniqueID = same as Word. If there is a Word with 2 object concepts, a number is added (e.g. chest1 = breast; chest2 = box),"
   ]
  },
  {
   "cell_type": "code",
   "execution_count": 10,
   "id": "b50d6981",
   "metadata": {},
   "outputs": [
    {
     "name": "stdout",
     "output_type": "stream",
     "text": [
      "Length of df :  1854\n"
     ]
    },
    {
     "data": {
      "text/html": [
       "<div>\n",
       "<style scoped>\n",
       "    .dataframe tbody tr th:only-of-type {\n",
       "        vertical-align: middle;\n",
       "    }\n",
       "\n",
       "    .dataframe tbody tr th {\n",
       "        vertical-align: top;\n",
       "    }\n",
       "\n",
       "    .dataframe thead th {\n",
       "        text-align: right;\n",
       "    }\n",
       "</style>\n",
       "<table border=\"1\" class=\"dataframe\">\n",
       "  <thead>\n",
       "    <tr style=\"text-align: right;\">\n",
       "      <th></th>\n",
       "      <th>objectID</th>\n",
       "      <th>Word</th>\n",
       "      <th>Wordnet Synset</th>\n",
       "      <th>uniqueID</th>\n",
       "    </tr>\n",
       "  </thead>\n",
       "  <tbody>\n",
       "    <tr>\n",
       "      <th>0</th>\n",
       "      <td>0</td>\n",
       "      <td>aardvark</td>\n",
       "      <td>aardvark, ant_bear, anteater, Orycteropus_afer</td>\n",
       "      <td>aardvark</td>\n",
       "    </tr>\n",
       "    <tr>\n",
       "      <th>1</th>\n",
       "      <td>1</td>\n",
       "      <td>abacus</td>\n",
       "      <td>abacus</td>\n",
       "      <td>abacus</td>\n",
       "    </tr>\n",
       "  </tbody>\n",
       "</table>\n",
       "</div>"
      ],
      "text/plain": [
       "   objectID      Word                                  Wordnet Synset  \\\n",
       "0         0  aardvark  aardvark, ant_bear, anteater, Orycteropus_afer   \n",
       "1         1    abacus                                          abacus   \n",
       "\n",
       "   uniqueID  \n",
       "0  aardvark  \n",
       "1    abacus  "
      ]
     },
     "execution_count": 10,
     "metadata": {},
     "output_type": "execute_result"
    }
   ],
   "source": [
    "wordnet = pd.read_csv(\"../SPoSE/data/wordnet/items1854names.tsv\", sep=\"\\t\"\n",
    "                      ).rename_axis('objectID').reset_index()[[\n",
    "    'objectID', 'Word', 'Wordnet Synset', 'uniqueID']]\n",
    "print('Length of df : ', len(wordnet))\n",
    "wordnet.head(2)"
   ]
  },
  {
   "cell_type": "markdown",
   "id": "de02643a",
   "metadata": {},
   "source": [
    "3. Category dataset: all object concepts are part of one ore multiple categories"
   ]
  },
  {
   "cell_type": "code",
   "execution_count": 11,
   "id": "e584dcde",
   "metadata": {},
   "outputs": [
    {
     "name": "stdout",
     "output_type": "stream",
     "text": [
      "Number of categories :  53\n"
     ]
    },
    {
     "data": {
      "text/html": [
       "<div>\n",
       "<style scoped>\n",
       "    .dataframe tbody tr th:only-of-type {\n",
       "        vertical-align: middle;\n",
       "    }\n",
       "\n",
       "    .dataframe tbody tr th {\n",
       "        vertical-align: top;\n",
       "    }\n",
       "\n",
       "    .dataframe thead th {\n",
       "        text-align: right;\n",
       "    }\n",
       "</style>\n",
       "<table border=\"1\" class=\"dataframe\">\n",
       "  <thead>\n",
       "    <tr style=\"text-align: right;\">\n",
       "      <th></th>\n",
       "      <th>category</th>\n",
       "      <th>uniqueID</th>\n",
       "      <th>Word</th>\n",
       "    </tr>\n",
       "  </thead>\n",
       "  <tbody>\n",
       "    <tr>\n",
       "      <th>0</th>\n",
       "      <td>animal</td>\n",
       "      <td>aardvark</td>\n",
       "      <td>aardvark</td>\n",
       "    </tr>\n",
       "    <tr>\n",
       "      <th>1</th>\n",
       "      <td>animal</td>\n",
       "      <td>alligator</td>\n",
       "      <td>alligator</td>\n",
       "    </tr>\n",
       "  </tbody>\n",
       "</table>\n",
       "</div>"
      ],
      "text/plain": [
       "  category   uniqueID       Word\n",
       "0   animal   aardvark   aardvark\n",
       "1   animal  alligator  alligator"
      ]
     },
     "execution_count": 11,
     "metadata": {},
     "output_type": "execute_result"
    }
   ],
   "source": [
    "category_df = pd.read_csv(\"../SPoSE/data/wordnet/category53_longFormat.tsv\", sep=\"\\t\")\n",
    "print('Number of categories : ',len(category_df['category'].unique()))\n",
    "category_df.head(2)"
   ]
  },
  {
   "cell_type": "code",
   "execution_count": 65,
   "id": "93a491ba",
   "metadata": {},
   "outputs": [
    {
     "data": {
      "text/plain": [
       "(array([784.,   0., 476.,   0., 140.,   0.,  42.,   0.,   5.,   1.]),\n",
       " array([1. , 1.5, 2. , 2.5, 3. , 3.5, 4. , 4.5, 5. , 5.5, 6. ]),\n",
       " <BarContainer object of 10 artists>)"
      ]
     },
     "execution_count": 65,
     "metadata": {},
     "output_type": "execute_result"
    },
    {
     "data": {
      "image/png": "[encoded data removed]",
      "text/plain": [
       "<Figure size 432x288 with 1 Axes>"
      ]
     },
     "metadata": {
      "needs_background": "light"
     },
     "output_type": "display_data"
    }
   ],
   "source": [
    "a,b = np.unique(category_df.uniqueID, return_counts=True)\n",
    "plt.hist(b)"
   ]
  },
  {
   "cell_type": "markdown",
   "id": "b4df9546-a6d7-4678-aca6-cd13d5f3c79a",
   "metadata": {},
   "source": [
    "### Analysis 1: analyse the number of times an object/ pair of objects occures in the trainset\n",
    "1. All single objects\n",
    "- Conclusion: there is a normal distribution and there is not much difference in amount of occurences between the objects that appear least and most. "
   ]
  },
  {
   "cell_type": "code",
   "execution_count": 12,
   "id": "ce81c6ac",
   "metadata": {},
   "outputs": [
    {
     "name": "stdout",
     "output_type": "stream",
     "text": [
      "Number of unique objects: 1854\n"
     ]
    },
    {
     "data": {
      "text/plain": [
       "Text(0.5, 1.0, 'Histogram of the amount of times objects occure in the dataset')"
      ]
     },
     "execution_count": 12,
     "metadata": {},
     "output_type": "execute_result"
    },
    {
     "data": {
      "image/png": "[encoded data removed]",
      "text/plain": [
       "<Figure size 432x288 with 1 Axes>"
      ]
     },
     "metadata": {
      "needs_background": "light"
     },
     "output_type": "display_data"
    }
   ],
   "source": [
    "# objects + amount of times it occures in the trainset\n",
    "unique, counts = np.unique(train, return_counts=True)\n",
    "print('Number of unique objects:', unique.shape[0])\n",
    "\n",
    "plt.hist(counts, bins=30)\n",
    "plt.title(\"Histogram of the amount of times objects occure in the dataset\")\n"
   ]
  },
  {
   "cell_type": "code",
   "execution_count": 13,
   "id": "65192176",
   "metadata": {},
   "outputs": [
    {
     "data": {
      "text/plain": [
       "(7414.241100323625, 32.248924186628265)"
      ]
     },
     "execution_count": 13,
     "metadata": {},
     "output_type": "execute_result"
    }
   ],
   "source": [
    "np.mean(counts), np.std(counts)"
   ]
  },
  {
   "cell_type": "markdown",
   "id": "62d16e9f",
   "metadata": {},
   "source": [
    "2. odd-one-out objects\n",
    "- Conclusion: data is right-skewed; a few objects occure way more often as odd-one-out\n"
   ]
  },
  {
   "cell_type": "code",
   "execution_count": 14,
   "id": "830c0c3a",
   "metadata": {},
   "outputs": [
    {
     "data": {
      "text/plain": [
       "Text(0.5, 1.0, 'Histogram of the amount of times an object is the odd-one-out')"
      ]
     },
     "execution_count": 14,
     "metadata": {},
     "output_type": "execute_result"
    },
    {
     "data": {
      "image/png": "[encoded data removed]",
      "text/plain": [
       "<Figure size 432x288 with 1 Axes>"
      ]
     },
     "metadata": {
      "needs_background": "light"
     },
     "output_type": "display_data"
    }
   ],
   "source": [
    "# distribution of the amount of times an object is the \"odd-one-out\"\n",
    "unique_ooo, counts_ooo = np.unique(train[:, 2], return_counts=True)\n",
    "plt.hist(counts_ooo, bins=30)\n",
    "plt.title(\"Histogram of the amount of times an object is the odd-one-out\")"
   ]
  },
  {
   "cell_type": "markdown",
   "id": "76433ce9",
   "metadata": {},
   "source": [
    "3. Similair pairs (two objects not choosen as odd-one-out)\n",
    "- Conclusion: almost exponentially declining"
   ]
  },
  {
   "cell_type": "code",
   "execution_count": 15,
   "id": "501446bd",
   "metadata": {},
   "outputs": [
    {
     "data": {
      "text/plain": [
       "Text(0.5, 1.0, 'Histogram of the amount of times two objects are most similair')"
      ]
     },
     "execution_count": 15,
     "metadata": {},
     "output_type": "execute_result"
    },
    {
     "data": {
      "image/png": "[encoded data removed]",
      "text/plain": [
       "<Figure size 432x288 with 1 Axes>"
      ]
     },
     "metadata": {
      "needs_background": "light"
     },
     "output_type": "display_data"
    }
   ],
   "source": [
    "# distribution of the amount of times two objects are most similair\n",
    "train_sim = np.sort(train[:, :2], axis=1)\n",
    "unique_sim, counts_sim = np.unique(train_sim, axis=0, return_counts=True)\n",
    "plt.hist(counts_sim)\n",
    "plt.title(\"Histogram of the amount of times two objects are most similair\")"
   ]
  },
  {
   "cell_type": "markdown",
   "id": "c2b796dc-f69d-4686-b802-bd0d8f679ee8",
   "metadata": {},
   "source": [
    "4. all pairs"
   ]
  },
  {
   "cell_type": "code",
   "execution_count": 16,
   "id": "c33b453f-1bc2-4cad-8021-e548d307f154",
   "metadata": {},
   "outputs": [
    {
     "data": {
      "text/plain": [
       "Text(0.5, 1.0, 'Histogram of the amount of times two objects apear togheter in a triplet')"
      ]
     },
     "execution_count": 16,
     "metadata": {},
     "output_type": "execute_result"
    },
    {
     "data": {
      "image/png": "[encoded data removed]",
      "text/plain": [
       "<Figure size 432x288 with 1 Axes>"
      ]
     },
     "metadata": {
      "needs_background": "light"
     },
     "output_type": "display_data"
    }
   ],
   "source": [
    "# extract all pairs from triples -> order pairs to ensure (1,2) is same as (2,1)\n",
    "train_pairs1 = np.sort(train[:, :2], axis=1)\n",
    "train_pairs2 = np.sort(train[:, 1:], axis=1)\n",
    "train_pairs3 = np.sort(train[:, ::2], axis=1)\n",
    "pairs = np.concatenate([train_pairs1, train_pairs2, train_pairs3])\n",
    "unique_pairs, counts_pairs = np.unique(pairs, axis=0, return_counts=True)\n",
    "\n",
    "plt.hist(counts_pairs)\n",
    "plt.title(\"Histogram of the amount of times two objects apear togheter in a triplet\")"
   ]
  },
  {
   "cell_type": "markdown",
   "id": "5aff6707",
   "metadata": {},
   "source": [
    "### Analysis 2: similairity judgement in comparison to total judgement of pairs of objects\n",
    "1. Percentage of time two objects are rated most similair in proportion to total times the two objects where presented togheter in a triplet"
   ]
  },
  {
   "cell_type": "code",
   "execution_count": 17,
   "id": "17b4da0a",
   "metadata": {},
   "outputs": [
    {
     "data": {
      "text/plain": [
       "(array([   0,    1,    2, ..., 1851, 1852, 1853]),\n",
       " array([7370, 7395, 7316, ..., 7393, 7365, 7443]))"
      ]
     },
     "execution_count": 17,
     "metadata": {},
     "output_type": "execute_result"
    }
   ],
   "source": [
    "np.unique(train.flatten(), return_counts=True)"
   ]
  },
  {
   "cell_type": "code",
   "execution_count": 18,
   "id": "2c72d09e",
   "metadata": {},
   "outputs": [
    {
     "data": {
      "text/plain": [
       "Text(0, 0.5, 'Frequency')"
      ]
     },
     "execution_count": 18,
     "metadata": {},
     "output_type": "execute_result"
    },
    {
     "data": {
      "image/png": "[encoded data removed]",
      "text/plain": [
       "<Figure size 432x288 with 1 Axes>"
      ]
     },
     "metadata": {
      "needs_background": "light"
     },
     "output_type": "display_data"
    }
   ],
   "source": [
    "ooo_dict = dict(zip(unique_ooo, counts_ooo))\n",
    "unique_all, counts_all = np.unique(train.flatten(), return_counts=True)\n",
    "all_dict = dict(zip(unique_all, counts_all))\n",
    "\n",
    "ooo_perc_dict = {key: ooo_dict[key] / all_dict[key] * 100 for key in all_dict.keys()}"
   ]
  },
  {
   "cell_type": "code",
   "execution_count": 44,
   "id": "fa0ee708",
   "metadata": {},
   "outputs": [
    {
     "data": {
      "image/png": "[encoded data removed]",
      "text/plain": [
       "<Figure size 432x180 with 1 Axes>"
      ]
     },
     "metadata": {
      "needs_background": "light"
     },
     "output_type": "display_data"
    }
   ],
   "source": [
    "plt.figure(figsize=(6,2.5))\n",
    "plt.hist(list(ooo_perc_dict.values()), bins=30, alpha=0.5, edgecolor='black')\n",
    "plt.title(\"Histogram of percentage of time object is judged as odd-one-out\")\n",
    "plt.xlabel(\"%\")\n",
    "plt.ylabel(\"Frequency\")\n",
    "\n",
    "plt.show()"
   ]
  },
  {
   "cell_type": "code",
   "execution_count": 19,
   "id": "f61eb20c",
   "metadata": {},
   "outputs": [
    {
     "data": {
      "text/plain": [
       "(33.33421631879242, 5.782148129592399, 22.681940700808624, 51.291016675632065)"
      ]
     },
     "execution_count": 19,
     "metadata": {},
     "output_type": "execute_result"
    }
   ],
   "source": [
    "# np.mean(ooo_perc_dict.values), np.std(ooo_perc_dict), np.min(ooo_perc_dict), np.max(ooo_perc_dict)\n",
    "np.mean(np.asarray(list(ooo_perc_dict.values()))), np.std(np.asarray(list(ooo_perc_dict.values()))), np.min(np.asarray(list(ooo_perc_dict.values()))), np.max(np.asarray(list(ooo_perc_dict.values())))"
   ]
  },
  {
   "cell_type": "code",
   "execution_count": 20,
   "id": "d70d0a96",
   "metadata": {},
   "outputs": [],
   "source": [
    "# first zip the two objects to form key, second zip keys with values (counts)\n",
    "keys_pairs = list(zip(unique_pairs[:, 0], unique_pairs[:, 1])) # keys of object pairs\n",
    "pairs_dict = dict(zip(keys_pairs, counts_pairs))\n",
    "\n",
    "# first zip the two objects to from key, second zip keys with values (counts)\n",
    "keys_sim = list(zip(unique_sim[:, 0], unique_sim[:, 1])) # keys of object pairs\n",
    "sim_dict = dict(zip(keys_sim, counts_sim))\n",
    "\n",
    "sim_perc_dict = {key: sim_dict[key] / pairs_dict[key] * 100 if key in sim_dict.keys() else 0\n",
    "                 for key in pairs_dict.keys() }"
   ]
  },
  {
   "cell_type": "code",
   "execution_count": 48,
   "id": "c1eb585d",
   "metadata": {},
   "outputs": [
    {
     "data": {
      "image/png": "[encoded data removed]",
      "text/plain": [
       "<Figure size 432x180 with 1 Axes>"
      ]
     },
     "metadata": {
      "needs_background": "light"
     },
     "output_type": "display_data"
    }
   ],
   "source": [
    "plt.figure(figsize=(6,2.5))\n",
    "plt.hist(list(sim_perc_dict.values()), alpha=0.5, edgecolor='black')\n",
    "plt.title(\"Histogram of percentage of time pair is judged similar\")\n",
    "plt.xlabel(\"%\")\n",
    "plt.ylabel(\"Frequency\")\n",
    "plt.show()"
   ]
  },
  {
   "cell_type": "code",
   "execution_count": 23,
   "id": "9e8e7f5d",
   "metadata": {},
   "outputs": [
    {
     "ename": "KeyboardInterrupt",
     "evalue": "",
     "output_type": "error",
     "traceback": [
      "\u001b[0;31m---------------------------------------------------------------------------\u001b[0m",
      "\u001b[0;31mKeyboardInterrupt\u001b[0m                         Traceback (most recent call last)",
      "Input \u001b[0;32mIn [23]\u001b[0m, in \u001b[0;36m<cell line: 3>\u001b[0;34m()\u001b[0m\n\u001b[1;32m      1\u001b[0m \u001b[38;5;66;03m# len(np.where(np.asarray(list(sim_perc_dict.values())) <= 1/3*100)[0])/len(sim_perc_dict)\u001b[39;00m\n\u001b[1;32m      2\u001b[0m \u001b[38;5;28;01mfrom\u001b[39;00m \u001b[38;5;21;01mitertools\u001b[39;00m \u001b[38;5;28;01mimport\u001b[39;00m combinations\n\u001b[0;32m----> 3\u001b[0m [k \u001b[38;5;28;01mfor\u001b[39;00m k \u001b[38;5;129;01min\u001b[39;00m \u001b[38;5;28mlist\u001b[39m(combinations(\u001b[38;5;28mrange\u001b[39m(\u001b[38;5;241m1854\u001b[39m), \u001b[38;5;241m2\u001b[39m)) \u001b[38;5;28;01mif\u001b[39;00m k \u001b[38;5;129;01mnot\u001b[39;00m \u001b[38;5;129;01min\u001b[39;00m \u001b[38;5;28mlist\u001b[39m(pairs_dict\u001b[38;5;241m.\u001b[39mkeys())]\n",
      "Input \u001b[0;32mIn [23]\u001b[0m, in \u001b[0;36m<listcomp>\u001b[0;34m(.0)\u001b[0m\n\u001b[1;32m      1\u001b[0m \u001b[38;5;66;03m# len(np.where(np.asarray(list(sim_perc_dict.values())) <= 1/3*100)[0])/len(sim_perc_dict)\u001b[39;00m\n\u001b[1;32m      2\u001b[0m \u001b[38;5;28;01mfrom\u001b[39;00m \u001b[38;5;21;01mitertools\u001b[39;00m \u001b[38;5;28;01mimport\u001b[39;00m combinations\n\u001b[0;32m----> 3\u001b[0m [k \u001b[38;5;28;01mfor\u001b[39;00m k \u001b[38;5;129;01min\u001b[39;00m \u001b[38;5;28mlist\u001b[39m(combinations(\u001b[38;5;28mrange\u001b[39m(\u001b[38;5;241m1854\u001b[39m), \u001b[38;5;241m2\u001b[39m)) \u001b[38;5;28;01mif\u001b[39;00m k \u001b[38;5;129;01mnot\u001b[39;00m \u001b[38;5;129;01min\u001b[39;00m \u001b[38;5;28;43mlist\u001b[39;49m\u001b[43m(\u001b[49m\u001b[43mpairs_dict\u001b[49m\u001b[38;5;241;43m.\u001b[39;49m\u001b[43mkeys\u001b[49m\u001b[43m(\u001b[49m\u001b[43m)\u001b[49m\u001b[43m)\u001b[49m]\n",
      "\u001b[0;31mKeyboardInterrupt\u001b[0m: "
     ]
    }
   ],
   "source": [
    "# len(np.where(np.asarray(list(sim_perc_dict.values())) <= 1/3*100)[0])/len(sim_perc_dict)\n",
    "from itertools import combinations\n",
    "[k for k in list(combinations(range(1854), 2)) if k not in list(pairs_dict.keys())]"
   ]
  },
  {
   "cell_type": "markdown",
   "id": "f0a92ca0",
   "metadata": {},
   "source": [
    "Documents 0 and 15 are rated most similair 100% of the time they occure in a triplet. Those objects are both animals."
   ]
  },
  {
   "cell_type": "code",
   "execution_count": null,
   "id": "f06166cb",
   "metadata": {},
   "outputs": [],
   "source": [
    "print(max(sim_perc_dict, key=sim_perc_dict.get), max(sim_perc_dict.values()))\n",
    "wordnet.iloc[[0,15]]\n"
   ]
  },
  {
   "cell_type": "markdown",
   "id": "f273bea3-ecaa-4fac-83d0-5fe547b7873d",
   "metadata": {},
   "source": [
    "### Analysis 3: categories\n",
    "1. Number of object concepts per category"
   ]
  },
  {
   "cell_type": "code",
   "execution_count": 45,
   "id": "1c67981f",
   "metadata": {},
   "outputs": [
    {
     "name": "stdout",
     "output_type": "stream",
     "text": [
      "Top 5 categories with the least objects\n"
     ]
    },
    {
     "data": {
      "text/plain": [
       "category\n",
       "jewelry                15\n",
       "condiment              15\n",
       "footwear               15\n",
       "protective clothing    16\n",
       "outerwear              16\n",
       "Name: uniqueID, dtype: int64"
      ]
     },
     "metadata": {},
     "output_type": "display_data"
    },
    {
     "name": "stdout",
     "output_type": "stream",
     "text": [
      "Top 5 categories with the most objects\n"
     ]
    },
    {
     "data": {
      "text/plain": [
       "category\n",
       "container    105\n",
       "tool         107\n",
       "clothing     108\n",
       "animal       177\n",
       "food         295\n",
       "Name: uniqueID, dtype: int64"
      ]
     },
     "metadata": {},
     "output_type": "display_data"
    },
    {
     "data": {
      "image/png": "[encoded data removed]",
      "text/plain": [
       "<Figure size 432x288 with 1 Axes>"
      ]
     },
     "metadata": {
      "needs_background": "light"
     },
     "output_type": "display_data"
    }
   ],
   "source": [
    "cat_size = category_df.groupby('category')['uniqueID'].count()\n",
    "plt.hist(cat_size, bins=20)\n",
    "plt.title(\"Number of object concepts per category\")\n",
    "print('Top 5 categories with the least objects') \n",
    "display(cat_size.sort_values().head())\n",
    "print('Top 5 categories with the most objects') \n",
    "display(cat_size.sort_values().tail())"
   ]
  },
  {
   "cell_type": "markdown",
   "id": "5011b066",
   "metadata": {},
   "source": [
    "2. Number of cateogries per object"
   ]
  },
  {
   "cell_type": "code",
   "execution_count": 46,
   "id": "4ad3fc75",
   "metadata": {},
   "outputs": [
    {
     "data": {
      "text/plain": [
       "uniqueID\n",
       "squirt_gun      1\n",
       "shredder        1\n",
       "hand            1\n",
       "handbrake       1\n",
       "handkerchief    1\n",
       "               ..\n",
       "scissors        5\n",
       "helmet          5\n",
       "tweezers        5\n",
       "lab_coat        5\n",
       "chainsaw        6\n",
       "Name: category, Length: 1448, dtype: int64"
      ]
     },
     "execution_count": 46,
     "metadata": {},
     "output_type": "execute_result"
    },
    {
     "data": {
      "image/png": "[encoded data removed]",
      "text/plain": [
       "<Figure size 432x288 with 1 Axes>"
      ]
     },
     "metadata": {
      "needs_background": "light"
     },
     "output_type": "display_data"
    }
   ],
   "source": [
    "# connect objectID to category in order to connect to train data\n",
    "object_category_df = pd.merge(wordnet[['objectID', 'uniqueID']], category_df[['category', 'uniqueID']]\n",
    "                              )\n",
    "\n",
    "cat_per_obj = object_category_df.groupby('uniqueID')['category'].count().sort_values()\n",
    "plt.hist(cat_per_obj)\n",
    "plt.title(\"Number of categories an object is member of\")\n",
    "cat_per_obj"
   ]
  },
  {
   "cell_type": "markdown",
   "id": "e251ebda",
   "metadata": {},
   "source": [
    "3. Similarity scores for objects with same vs different categories"
   ]
  },
  {
   "cell_type": "code",
   "execution_count": 47,
   "id": "22320209",
   "metadata": {},
   "outputs": [
    {
     "name": "stdout",
     "output_type": "stream",
     "text": [
      "Similarity judgement percentage for object with same category:  74.88858180517238\n",
      "Similarity judgement percentage for object with different category:  35.3574172985892\n"
     ]
    }
   ],
   "source": [
    "# create dataframe with the percentage of times two objects were judged similair out of total times\n",
    "# they appeared toghether\n",
    "sim_df = pd.DataFrame.from_dict(sim_perc_dict, orient='index', columns=['sim_judge_perc']).reset_index()\n",
    "sim_df['objectID_1'], sim_df['objectID_2'] = zip(*sim_df['index'])\n",
    "\n",
    "# add category of object 1 and 2\n",
    "sim_df = pd.merge(sim_df, object_category_df[['objectID', 'category']], left_on='objectID_1', \n",
    "                  right_on='objectID').rename({'category': 'category_object1'}, axis=1\n",
    "                                              ).drop(['objectID'], axis=1)\n",
    "sim_df = pd.merge(sim_df, object_category_df[['objectID', 'category']], left_on='objectID_2', \n",
    "                  right_on='objectID').rename({'category': 'category_object2'}, axis=1\n",
    "                                              ).drop(['objectID'], axis=1)\n",
    "\n",
    "# mean similarity rating of objects with same category\n",
    "sim_df_same = sim_df[sim_df['category_object1'] == sim_df['category_object2']]\n",
    "print('Similarity judgement percentage for object with same category: ',\n",
    "       sim_df_same['sim_judge_perc'].mean())\n",
    "\n",
    "# mean similarity rating of objects with different category (all categories have to be different)\n",
    "sim_df_diff = sim_df[~sim_df['index'].isin(sim_df_same['index'])].drop_duplicates('index', keep='first')\n",
    "print('Similarity judgement percentage for object with different category: ',\n",
    "      sim_df_diff['sim_judge_perc'].mean())"
   ]
  },
  {
   "cell_type": "code",
   "execution_count": 48,
   "id": "e9d2be07",
   "metadata": {},
   "outputs": [
    {
     "name": "stdout",
     "output_type": "stream",
     "text": [
      "Objects with the same category (head)\n"
     ]
    },
    {
     "data": {
      "text/html": [
       "<div>\n",
       "<style scoped>\n",
       "    .dataframe tbody tr th:only-of-type {\n",
       "        vertical-align: middle;\n",
       "    }\n",
       "\n",
       "    .dataframe tbody tr th {\n",
       "        vertical-align: top;\n",
       "    }\n",
       "\n",
       "    .dataframe thead th {\n",
       "        text-align: right;\n",
       "    }\n",
       "</style>\n",
       "<table border=\"1\" class=\"dataframe\">\n",
       "  <thead>\n",
       "    <tr style=\"text-align: right;\">\n",
       "      <th></th>\n",
       "      <th></th>\n",
       "      <th>sim_judge_perc</th>\n",
       "    </tr>\n",
       "    <tr>\n",
       "      <th>category_object1</th>\n",
       "      <th>category_object2</th>\n",
       "      <th></th>\n",
       "    </tr>\n",
       "  </thead>\n",
       "  <tbody>\n",
       "    <tr>\n",
       "      <th>container</th>\n",
       "      <th>container</th>\n",
       "      <td>52.735255</td>\n",
       "    </tr>\n",
       "    <tr>\n",
       "      <th>home decor</th>\n",
       "      <th>home decor</th>\n",
       "      <td>53.099699</td>\n",
       "    </tr>\n",
       "    <tr>\n",
       "      <th>scientific equipment</th>\n",
       "      <th>scientific equipment</th>\n",
       "      <td>58.714635</td>\n",
       "    </tr>\n",
       "    <tr>\n",
       "      <th>arts and crafts supply</th>\n",
       "      <th>arts and crafts supply</th>\n",
       "      <td>59.139300</td>\n",
       "    </tr>\n",
       "    <tr>\n",
       "      <th>toy</th>\n",
       "      <th>toy</th>\n",
       "      <td>59.354328</td>\n",
       "    </tr>\n",
       "  </tbody>\n",
       "</table>\n",
       "</div>"
      ],
      "text/plain": [
       "                                               sim_judge_perc\n",
       "category_object1       category_object2                      \n",
       "container              container                    52.735255\n",
       "home decor             home decor                   53.099699\n",
       "scientific equipment   scientific equipment         58.714635\n",
       "arts and crafts supply arts and crafts supply       59.139300\n",
       "toy                    toy                          59.354328"
      ]
     },
     "metadata": {},
     "output_type": "display_data"
    },
    {
     "name": "stdout",
     "output_type": "stream",
     "text": [
      "Objects with the same category (tail)\n"
     ]
    },
    {
     "data": {
      "text/html": [
       "<div>\n",
       "<style scoped>\n",
       "    .dataframe tbody tr th:only-of-type {\n",
       "        vertical-align: middle;\n",
       "    }\n",
       "\n",
       "    .dataframe tbody tr th {\n",
       "        vertical-align: top;\n",
       "    }\n",
       "\n",
       "    .dataframe thead th {\n",
       "        text-align: right;\n",
       "    }\n",
       "</style>\n",
       "<table border=\"1\" class=\"dataframe\">\n",
       "  <thead>\n",
       "    <tr style=\"text-align: right;\">\n",
       "      <th></th>\n",
       "      <th></th>\n",
       "      <th>sim_judge_perc</th>\n",
       "    </tr>\n",
       "    <tr>\n",
       "      <th>category_object1</th>\n",
       "      <th>category_object2</th>\n",
       "      <th></th>\n",
       "    </tr>\n",
       "  </thead>\n",
       "  <tbody>\n",
       "    <tr>\n",
       "      <th>mammal</th>\n",
       "      <th>mammal</th>\n",
       "      <td>93.106641</td>\n",
       "    </tr>\n",
       "    <tr>\n",
       "      <th>farm animal</th>\n",
       "      <th>farm animal</th>\n",
       "      <td>93.297235</td>\n",
       "    </tr>\n",
       "    <tr>\n",
       "      <th>drink</th>\n",
       "      <th>drink</th>\n",
       "      <td>93.431960</td>\n",
       "    </tr>\n",
       "    <tr>\n",
       "      <th>bird</th>\n",
       "      <th>bird</th>\n",
       "      <td>95.209482</td>\n",
       "    </tr>\n",
       "    <tr>\n",
       "      <th>insect</th>\n",
       "      <th>insect</th>\n",
       "      <td>95.449320</td>\n",
       "    </tr>\n",
       "  </tbody>\n",
       "</table>\n",
       "</div>"
      ],
      "text/plain": [
       "                                   sim_judge_perc\n",
       "category_object1 category_object2                \n",
       "mammal           mammal                 93.106641\n",
       "farm animal      farm animal            93.297235\n",
       "drink            drink                  93.431960\n",
       "bird             bird                   95.209482\n",
       "insect           insect                 95.449320"
      ]
     },
     "metadata": {},
     "output_type": "display_data"
    },
    {
     "data": {
      "text/plain": [
       "(None, None)"
      ]
     },
     "execution_count": 48,
     "metadata": {},
     "output_type": "execute_result"
    }
   ],
   "source": [
    "sim_df_same_head = sim_df_same.groupby(['category_object1', 'category_object2'])[['sim_judge_perc']\n",
    "                                                              ].mean().sort_values(by='sim_judge_perc').head()\n",
    "\n",
    "sim_df_same_tail = sim_df_same.groupby(['category_object1', 'category_object2'])[['sim_judge_perc']\n",
    "                                                              ].mean().sort_values(by='sim_judge_perc').tail()\n",
    "print('Objects with the same category (head)'), display(sim_df_same_head)\n",
    "print('Objects with the same category (tail)'), display(sim_df_same_tail)"
   ]
  },
  {
   "cell_type": "code",
   "execution_count": 49,
   "id": "5ebd8377",
   "metadata": {},
   "outputs": [
    {
     "name": "stdout",
     "output_type": "stream",
     "text": [
      "Objects with different categories\n"
     ]
    },
    {
     "data": {
      "text/html": [
       "<div>\n",
       "<style scoped>\n",
       "    .dataframe tbody tr th:only-of-type {\n",
       "        vertical-align: middle;\n",
       "    }\n",
       "\n",
       "    .dataframe tbody tr th {\n",
       "        vertical-align: top;\n",
       "    }\n",
       "\n",
       "    .dataframe thead th {\n",
       "        text-align: right;\n",
       "    }\n",
       "</style>\n",
       "<table border=\"1\" class=\"dataframe\">\n",
       "  <thead>\n",
       "    <tr style=\"text-align: right;\">\n",
       "      <th></th>\n",
       "      <th></th>\n",
       "      <th>sim_judge_perc</th>\n",
       "    </tr>\n",
       "    <tr>\n",
       "      <th>category_object1</th>\n",
       "      <th>category_object2</th>\n",
       "      <th></th>\n",
       "    </tr>\n",
       "  </thead>\n",
       "  <tbody>\n",
       "    <tr>\n",
       "      <th rowspan=\"2\" valign=\"top\">watercraft</th>\n",
       "      <th>breakfast food</th>\n",
       "      <td>11.111111</td>\n",
       "    </tr>\n",
       "    <tr>\n",
       "      <th>dessert</th>\n",
       "      <td>11.111111</td>\n",
       "    </tr>\n",
       "    <tr>\n",
       "      <th>condiment</th>\n",
       "      <th>watercraft</th>\n",
       "      <td>13.095238</td>\n",
       "    </tr>\n",
       "    <tr>\n",
       "      <th rowspan=\"2\" valign=\"top\">watercraft</th>\n",
       "      <th>game</th>\n",
       "      <td>13.392857</td>\n",
       "    </tr>\n",
       "    <tr>\n",
       "      <th>personal hygiene item</th>\n",
       "      <td>14.285714</td>\n",
       "    </tr>\n",
       "    <tr>\n",
       "      <th>...</th>\n",
       "      <th>...</th>\n",
       "      <td>...</td>\n",
       "    </tr>\n",
       "    <tr>\n",
       "      <th rowspan=\"2\" valign=\"top\">dessert</th>\n",
       "      <th>candy</th>\n",
       "      <td>80.714286</td>\n",
       "    </tr>\n",
       "    <tr>\n",
       "      <th>drink</th>\n",
       "      <td>81.486216</td>\n",
       "    </tr>\n",
       "    <tr>\n",
       "      <th>drink</th>\n",
       "      <th>dessert</th>\n",
       "      <td>83.240264</td>\n",
       "    </tr>\n",
       "    <tr>\n",
       "      <th>dessert</th>\n",
       "      <th>condiment</th>\n",
       "      <td>83.482143</td>\n",
       "    </tr>\n",
       "    <tr>\n",
       "      <th>breakfast food</th>\n",
       "      <th>dessert</th>\n",
       "      <td>84.479718</td>\n",
       "    </tr>\n",
       "  </tbody>\n",
       "</table>\n",
       "<p>1773 rows × 1 columns</p>\n",
       "</div>"
      ],
      "text/plain": [
       "                                        sim_judge_perc\n",
       "category_object1 category_object2                     \n",
       "watercraft       breakfast food              11.111111\n",
       "                 dessert                     11.111111\n",
       "condiment        watercraft                  13.095238\n",
       "watercraft       game                        13.392857\n",
       "                 personal hygiene item       14.285714\n",
       "...                                                ...\n",
       "dessert          candy                       80.714286\n",
       "                 drink                       81.486216\n",
       "drink            dessert                     83.240264\n",
       "dessert          condiment                   83.482143\n",
       "breakfast food   dessert                     84.479718\n",
       "\n",
       "[1773 rows x 1 columns]"
      ]
     },
     "execution_count": 49,
     "metadata": {},
     "output_type": "execute_result"
    }
   ],
   "source": [
    "print('Objects with different categories')\n",
    "sim_df_diff.groupby(['category_object1', 'category_object2'])[['sim_judge_perc']\n",
    "                                                              ].mean().sort_values(by='sim_judge_perc')"
   ]
  },
  {
   "cell_type": "markdown",
   "id": "c0acec07",
   "metadata": {},
   "source": [
    "3. Categories and sub-categories"
   ]
  },
  {
   "cell_type": "code",
   "execution_count": 50,
   "id": "34ddb3ad",
   "metadata": {},
   "outputs": [
    {
     "data": {
      "text/plain": [
       "Text(0.5, 1.0, 'Number of times two categories are linked to the same object')"
      ]
     },
     "execution_count": 50,
     "metadata": {},
     "output_type": "execute_result"
    },
    {
     "data": {
      "image/png": "[encoded data removed]",
      "text/plain": [
       "<Figure size 432x288 with 1 Axes>"
      ]
     },
     "metadata": {
      "needs_background": "light"
     },
     "output_type": "display_data"
    }
   ],
   "source": [
    "# check if some combinations always apear togheter (subcategories)\n",
    "# 1. get al pairs of categories that appear as the same category of an object\n",
    "categories_df = object_category_df.groupby('uniqueID')['category'].apply(lambda x: list(combinations(x,2))\n",
    "                                                                         ).reset_index()\n",
    "\n",
    "\n",
    "# 2. remove all entries where an object is only 1 category and put all values in list of tuples\n",
    "categorie_pairs = sum(categories_df[categories_df['category'].apply(len) != 0]['category'].to_list(), [])\n",
    "\n",
    "# 3. count categorie pairs\n",
    "categorie_pairs_dict = dict(sorted(Counter(categorie_pairs).items()))\n",
    "\n",
    "# # 4. change to (objec0, object1, count) to add to graph\n",
    "# weighted_edges = [(k[0], k[1], v) for k,v in categorie_pairs_dict.items()]\n",
    "# G = nx.Graph()\n",
    "# G.add_weighted_edges_from(weighted_edges)\n",
    "plt.hist(Counter(sum(categorie_pairs_dict.keys(), ())).values())\n",
    "plt.title('Number of times two categories are linked to the same object')"
   ]
  },
  {
   "cell_type": "markdown",
   "id": "5f1587ab",
   "metadata": {},
   "source": [
    "# Hyperbolic space"
   ]
  },
  {
   "cell_type": "code",
   "execution_count": 12,
   "id": "999fbc15",
   "metadata": {},
   "outputs": [],
   "source": [
    "# %pip install git+https://github.com/geoopt/geoopt.git\n",
    "import geoopt\n",
    "from geoopt.manifolds.lorentz import Lorentz\n",
    "from geoopt.manifolds.lorentz import math\n",
    "import torch"
   ]
  },
  {
   "cell_type": "code",
   "execution_count": 10,
   "id": "3626fb7b",
   "metadata": {},
   "outputs": [],
   "source": [
    "k = 3 # choose curvature parameter\n",
    "dim = 2\n",
    "man = Lorentz(k=k)"
   ]
  },
  {
   "cell_type": "code",
   "execution_count": 14,
   "id": "7d0b7179",
   "metadata": {},
   "outputs": [],
   "source": [
    "x_h = man.projx(x) # project onto the hyperboloid"
   ]
  },
  {
   "cell_type": "code",
   "execution_count": 15,
   "id": "0d67d89f",
   "metadata": {},
   "outputs": [
    {
     "data": {
      "text/plain": [
       "tensor([[-0.7091, -1.9634],\n",
       "        [ 0.4551, -0.6664],\n",
       "        [-0.1113, -0.1021],\n",
       "        [ 0.9678, -0.3480],\n",
       "        [ 0.4079,  0.2220],\n",
       "        [-1.6047, -0.8559],\n",
       "        [ 1.3693,  1.9991],\n",
       "        [ 1.3484,  1.2415],\n",
       "        [-1.8538,  0.2046],\n",
       "        [ 0.5556,  0.2916],\n",
       "        [-0.6755,  0.8140],\n",
       "        [-0.4587,  0.8209],\n",
       "        [ 0.4460, -0.3691],\n",
       "        [-1.4326,  0.7580],\n",
       "        [-0.6638, -0.0173],\n",
       "        [ 1.6530,  0.3309],\n",
       "        [ 0.1492,  0.6725],\n",
       "        [-0.0584,  1.4729],\n",
       "        [-0.3419, -0.3003],\n",
       "        [-0.1567,  1.0056]])"
      ]
     },
     "execution_count": 15,
     "metadata": {},
     "output_type": "execute_result"
    }
   ],
   "source": [
    "x"
   ]
  },
  {
   "cell_type": "code",
   "execution_count": 16,
   "id": "14176e62",
   "metadata": {},
   "outputs": [
    {
     "data": {
      "text/plain": [
       "tensor([[ 2.6182, -1.9634],\n",
       "        [ 1.8558, -0.6664],\n",
       "        [ 1.7351, -0.1021],\n",
       "        [ 1.7667, -0.3480],\n",
       "        [ 1.7462,  0.2220],\n",
       "        [ 1.9320, -0.8559],\n",
       "        [ 2.6451,  1.9991],\n",
       "        [ 2.1310,  1.2415],\n",
       "        [ 1.7441,  0.2046],\n",
       "        [ 1.7564,  0.2916],\n",
       "        [ 1.9138,  0.8140],\n",
       "        [ 1.9167,  0.8209],\n",
       "        [ 1.7709, -0.3691],\n",
       "        [ 1.8906,  0.7580],\n",
       "        [ 1.7321, -0.0173],\n",
       "        [ 1.7634,  0.3309],\n",
       "        [ 1.8580,  0.6725],\n",
       "        [ 2.2737,  1.4729],\n",
       "        [ 1.7579, -0.3003],\n",
       "        [ 2.0028,  1.0056]])"
      ]
     },
     "execution_count": 16,
     "metadata": {},
     "output_type": "execute_result"
    }
   ],
   "source": [
    "x_h"
   ]
  },
  {
   "cell_type": "code",
   "execution_count": 22,
   "id": "9bab8767",
   "metadata": {},
   "outputs": [
    {
     "data": {
      "text/plain": [
       "(False, \"'x' minkowski quadratic form is not equal to -3.0\")"
      ]
     },
     "execution_count": 22,
     "metadata": {},
     "output_type": "execute_result"
    }
   ],
   "source": [
    "man._check_point_on_manifold(x[15])"
   ]
  },
  {
   "cell_type": "code",
   "execution_count": 19,
   "id": "72529a6c",
   "metadata": {},
   "outputs": [
    {
     "data": {
      "text/plain": [
       "tensor([-0.7091, -1.9634])"
      ]
     },
     "execution_count": 19,
     "metadata": {},
     "output_type": "execute_result"
    }
   ],
   "source": [
    "x[0]"
   ]
  },
  {
   "cell_type": "code",
   "execution_count": 23,
   "id": "add12173",
   "metadata": {},
   "outputs": [
    {
     "data": {
      "text/plain": [
       "tensor([ 2.6182, -1.9634])"
      ]
     },
     "execution_count": 23,
     "metadata": {},
     "output_type": "execute_result"
    }
   ],
   "source": [
    "x_h[0]"
   ]
  },
  {
   "cell_type": "code",
   "execution_count": 27,
   "id": "744dc778",
   "metadata": {},
   "outputs": [
    {
     "data": {
      "text/plain": [
       "(True, None)"
      ]
     },
     "execution_count": 27,
     "metadata": {},
     "output_type": "execute_result"
    }
   ],
   "source": [
    "man._check_point_on_manifold(torch.tensor([2.6182, -1.9634]))"
   ]
  },
  {
   "cell_type": "code",
   "execution_count": null,
   "id": "0dbee635",
   "metadata": {},
   "outputs": [],
   "source": [
    "from sklearn.manifold import TSNE\n",
    "X_embedded = TSNE(n_components=2, learning_rate='auto',\n",
    "                  init='pca', perplexity=5).fit_transform(logits)\n",
    "X_embedded.shape"
   ]
  }
 ],
 "metadata": {
  "kernelspec": {
   "display_name": "Python 3 (ipykernel)",
   "language": "python",
   "name": "python3"
  },
  "language_info": {
   "codemirror_mode": {
    "name": "ipython",
    "version": 3
   },
   "file_extension": ".py",
   "mimetype": "text/x-python",
   "name": "python",
   "nbconvert_exporter": "python",
   "pygments_lexer": "ipython3",
   "version": "3.9.12"
  },
  "vscode": {
   "interpreter": {
    "hash": "f4bc7a400e35f160b13ed52195005e41b219907c1be09b125a1c17e685484faa"
   }
  }
 },
 "nbformat": 4,
 "nbformat_minor": 5
}
